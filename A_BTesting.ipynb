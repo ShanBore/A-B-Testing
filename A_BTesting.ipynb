{
  "nbformat": 4,
  "nbformat_minor": 0,
  "metadata": {
    "colab": {
      "provenance": [],
      "authorship_tag": "ABX9TyOhGmfSEwKkyUq1tsxALpk2"
    },
    "kernelspec": {
      "name": "python3",
      "display_name": "Python 3"
    },
    "language_info": {
      "name": "python"
    }
  },
  "cells": [
    {
      "cell_type": "code",
      "source": [
        "import numpy as np\n",
        "import pandas as pd\n",
        "from scipy.stats import ttest_ind"
      ],
      "metadata": {
        "id": "bdj5pAS6t7t8"
      },
      "execution_count": 15,
      "outputs": []
    },
    {
      "cell_type": "code",
      "source": [
        "df = pd.read_csv('/content/campaign_data.csv')"
      ],
      "metadata": {
        "id": "wQJO6Vt8uEed"
      },
      "execution_count": 16,
      "outputs": []
    },
    {
      "cell_type": "code",
      "source": [
        "df.head(5)"
      ],
      "metadata": {
        "colab": {
          "base_uri": "https://localhost:8080/",
          "height": 434
        },
        "id": "eTMSQmbOwZ6o",
        "outputId": "4f042d54-ba1b-4ea7-aec1-712c037edd66"
      },
      "execution_count": 17,
      "outputs": [
        {
          "output_type": "execute_result",
          "data": {
            "text/plain": [
              "                           Recipient_ID  Age  Gender Campaign_Channel  \\\n",
              "0  2c89d194-f259-43c7-bfc6-25f8b83b270b   34    Male     Social Media   \n",
              "1  ba7bcca6-295f-4ad6-a62f-216ea0dc0c3a   28  Female            Email   \n",
              "2  26ba2d22-2131-4c10-a355-36d90c27f2f1   36  Female     Social Media   \n",
              "3  fc04f0a3-c26a-4002-ba81-b97b8417212a   45    Male         Paid Ads   \n",
              "4  e6454859-35b9-46a0-aaf7-93d54d1255e2   27  Female            Email   \n",
              "\n",
              "   Engagement_Rate  Click_Through_Rate         Region Device_Type      Month  \\\n",
              "0         0.053627            0.195344           Asia      Mobile  September   \n",
              "1         0.157106            0.003655  North America     Desktop    October   \n",
              "2         0.265937            0.060457           Asia      Tablet        May   \n",
              "3         0.341918            0.163760  North America     Desktop      April   \n",
              "4         0.154525            0.036616           Asia     Desktop   November   \n",
              "\n",
              "  Campaign_Period  \n",
              "0       Afternoon  \n",
              "1         Evening  \n",
              "2         Morning  \n",
              "3         Morning  \n",
              "4         Evening  "
            ],
            "text/html": [
              "\n",
              "  <div id=\"df-18a8c2ec-7d18-42da-b31d-41527ebcc75a\" class=\"colab-df-container\">\n",
              "    <div>\n",
              "<style scoped>\n",
              "    .dataframe tbody tr th:only-of-type {\n",
              "        vertical-align: middle;\n",
              "    }\n",
              "\n",
              "    .dataframe tbody tr th {\n",
              "        vertical-align: top;\n",
              "    }\n",
              "\n",
              "    .dataframe thead th {\n",
              "        text-align: right;\n",
              "    }\n",
              "</style>\n",
              "<table border=\"1\" class=\"dataframe\">\n",
              "  <thead>\n",
              "    <tr style=\"text-align: right;\">\n",
              "      <th></th>\n",
              "      <th>Recipient_ID</th>\n",
              "      <th>Age</th>\n",
              "      <th>Gender</th>\n",
              "      <th>Campaign_Channel</th>\n",
              "      <th>Engagement_Rate</th>\n",
              "      <th>Click_Through_Rate</th>\n",
              "      <th>Region</th>\n",
              "      <th>Device_Type</th>\n",
              "      <th>Month</th>\n",
              "      <th>Campaign_Period</th>\n",
              "    </tr>\n",
              "  </thead>\n",
              "  <tbody>\n",
              "    <tr>\n",
              "      <th>0</th>\n",
              "      <td>2c89d194-f259-43c7-bfc6-25f8b83b270b</td>\n",
              "      <td>34</td>\n",
              "      <td>Male</td>\n",
              "      <td>Social Media</td>\n",
              "      <td>0.053627</td>\n",
              "      <td>0.195344</td>\n",
              "      <td>Asia</td>\n",
              "      <td>Mobile</td>\n",
              "      <td>September</td>\n",
              "      <td>Afternoon</td>\n",
              "    </tr>\n",
              "    <tr>\n",
              "      <th>1</th>\n",
              "      <td>ba7bcca6-295f-4ad6-a62f-216ea0dc0c3a</td>\n",
              "      <td>28</td>\n",
              "      <td>Female</td>\n",
              "      <td>Email</td>\n",
              "      <td>0.157106</td>\n",
              "      <td>0.003655</td>\n",
              "      <td>North America</td>\n",
              "      <td>Desktop</td>\n",
              "      <td>October</td>\n",
              "      <td>Evening</td>\n",
              "    </tr>\n",
              "    <tr>\n",
              "      <th>2</th>\n",
              "      <td>26ba2d22-2131-4c10-a355-36d90c27f2f1</td>\n",
              "      <td>36</td>\n",
              "      <td>Female</td>\n",
              "      <td>Social Media</td>\n",
              "      <td>0.265937</td>\n",
              "      <td>0.060457</td>\n",
              "      <td>Asia</td>\n",
              "      <td>Tablet</td>\n",
              "      <td>May</td>\n",
              "      <td>Morning</td>\n",
              "    </tr>\n",
              "    <tr>\n",
              "      <th>3</th>\n",
              "      <td>fc04f0a3-c26a-4002-ba81-b97b8417212a</td>\n",
              "      <td>45</td>\n",
              "      <td>Male</td>\n",
              "      <td>Paid Ads</td>\n",
              "      <td>0.341918</td>\n",
              "      <td>0.163760</td>\n",
              "      <td>North America</td>\n",
              "      <td>Desktop</td>\n",
              "      <td>April</td>\n",
              "      <td>Morning</td>\n",
              "    </tr>\n",
              "    <tr>\n",
              "      <th>4</th>\n",
              "      <td>e6454859-35b9-46a0-aaf7-93d54d1255e2</td>\n",
              "      <td>27</td>\n",
              "      <td>Female</td>\n",
              "      <td>Email</td>\n",
              "      <td>0.154525</td>\n",
              "      <td>0.036616</td>\n",
              "      <td>Asia</td>\n",
              "      <td>Desktop</td>\n",
              "      <td>November</td>\n",
              "      <td>Evening</td>\n",
              "    </tr>\n",
              "  </tbody>\n",
              "</table>\n",
              "</div>\n",
              "    <div class=\"colab-df-buttons\">\n",
              "\n",
              "  <div class=\"colab-df-container\">\n",
              "    <button class=\"colab-df-convert\" onclick=\"convertToInteractive('df-18a8c2ec-7d18-42da-b31d-41527ebcc75a')\"\n",
              "            title=\"Convert this dataframe to an interactive table.\"\n",
              "            style=\"display:none;\">\n",
              "\n",
              "  <svg xmlns=\"http://www.w3.org/2000/svg\" height=\"24px\" viewBox=\"0 -960 960 960\">\n",
              "    <path d=\"M120-120v-720h720v720H120Zm60-500h600v-160H180v160Zm220 220h160v-160H400v160Zm0 220h160v-160H400v160ZM180-400h160v-160H180v160Zm440 0h160v-160H620v160ZM180-180h160v-160H180v160Zm440 0h160v-160H620v160Z\"/>\n",
              "  </svg>\n",
              "    </button>\n",
              "\n",
              "  <style>\n",
              "    .colab-df-container {\n",
              "      display:flex;\n",
              "      gap: 12px;\n",
              "    }\n",
              "\n",
              "    .colab-df-convert {\n",
              "      background-color: #E8F0FE;\n",
              "      border: none;\n",
              "      border-radius: 50%;\n",
              "      cursor: pointer;\n",
              "      display: none;\n",
              "      fill: #1967D2;\n",
              "      height: 32px;\n",
              "      padding: 0 0 0 0;\n",
              "      width: 32px;\n",
              "    }\n",
              "\n",
              "    .colab-df-convert:hover {\n",
              "      background-color: #E2EBFA;\n",
              "      box-shadow: 0px 1px 2px rgba(60, 64, 67, 0.3), 0px 1px 3px 1px rgba(60, 64, 67, 0.15);\n",
              "      fill: #174EA6;\n",
              "    }\n",
              "\n",
              "    .colab-df-buttons div {\n",
              "      margin-bottom: 4px;\n",
              "    }\n",
              "\n",
              "    [theme=dark] .colab-df-convert {\n",
              "      background-color: #3B4455;\n",
              "      fill: #D2E3FC;\n",
              "    }\n",
              "\n",
              "    [theme=dark] .colab-df-convert:hover {\n",
              "      background-color: #434B5C;\n",
              "      box-shadow: 0px 1px 3px 1px rgba(0, 0, 0, 0.15);\n",
              "      filter: drop-shadow(0px 1px 2px rgba(0, 0, 0, 0.3));\n",
              "      fill: #FFFFFF;\n",
              "    }\n",
              "  </style>\n",
              "\n",
              "    <script>\n",
              "      const buttonEl =\n",
              "        document.querySelector('#df-18a8c2ec-7d18-42da-b31d-41527ebcc75a button.colab-df-convert');\n",
              "      buttonEl.style.display =\n",
              "        google.colab.kernel.accessAllowed ? 'block' : 'none';\n",
              "\n",
              "      async function convertToInteractive(key) {\n",
              "        const element = document.querySelector('#df-18a8c2ec-7d18-42da-b31d-41527ebcc75a');\n",
              "        const dataTable =\n",
              "          await google.colab.kernel.invokeFunction('convertToInteractive',\n",
              "                                                    [key], {});\n",
              "        if (!dataTable) return;\n",
              "\n",
              "        const docLinkHtml = 'Like what you see? Visit the ' +\n",
              "          '<a target=\"_blank\" href=https://colab.research.google.com/notebooks/data_table.ipynb>data table notebook</a>'\n",
              "          + ' to learn more about interactive tables.';\n",
              "        element.innerHTML = '';\n",
              "        dataTable['output_type'] = 'display_data';\n",
              "        await google.colab.output.renderOutput(dataTable, element);\n",
              "        const docLink = document.createElement('div');\n",
              "        docLink.innerHTML = docLinkHtml;\n",
              "        element.appendChild(docLink);\n",
              "      }\n",
              "    </script>\n",
              "  </div>\n",
              "\n",
              "\n",
              "<div id=\"df-1c31a03f-6d25-41de-9b58-1a25129a6062\">\n",
              "  <button class=\"colab-df-quickchart\" onclick=\"quickchart('df-1c31a03f-6d25-41de-9b58-1a25129a6062')\"\n",
              "            title=\"Suggest charts\"\n",
              "            style=\"display:none;\">\n",
              "\n",
              "<svg xmlns=\"http://www.w3.org/2000/svg\" height=\"24px\"viewBox=\"0 0 24 24\"\n",
              "     width=\"24px\">\n",
              "    <g>\n",
              "        <path d=\"M19 3H5c-1.1 0-2 .9-2 2v14c0 1.1.9 2 2 2h14c1.1 0 2-.9 2-2V5c0-1.1-.9-2-2-2zM9 17H7v-7h2v7zm4 0h-2V7h2v10zm4 0h-2v-4h2v4z\"/>\n",
              "    </g>\n",
              "</svg>\n",
              "  </button>\n",
              "\n",
              "<style>\n",
              "  .colab-df-quickchart {\n",
              "      --bg-color: #E8F0FE;\n",
              "      --fill-color: #1967D2;\n",
              "      --hover-bg-color: #E2EBFA;\n",
              "      --hover-fill-color: #174EA6;\n",
              "      --disabled-fill-color: #AAA;\n",
              "      --disabled-bg-color: #DDD;\n",
              "  }\n",
              "\n",
              "  [theme=dark] .colab-df-quickchart {\n",
              "      --bg-color: #3B4455;\n",
              "      --fill-color: #D2E3FC;\n",
              "      --hover-bg-color: #434B5C;\n",
              "      --hover-fill-color: #FFFFFF;\n",
              "      --disabled-bg-color: #3B4455;\n",
              "      --disabled-fill-color: #666;\n",
              "  }\n",
              "\n",
              "  .colab-df-quickchart {\n",
              "    background-color: var(--bg-color);\n",
              "    border: none;\n",
              "    border-radius: 50%;\n",
              "    cursor: pointer;\n",
              "    display: none;\n",
              "    fill: var(--fill-color);\n",
              "    height: 32px;\n",
              "    padding: 0;\n",
              "    width: 32px;\n",
              "  }\n",
              "\n",
              "  .colab-df-quickchart:hover {\n",
              "    background-color: var(--hover-bg-color);\n",
              "    box-shadow: 0 1px 2px rgba(60, 64, 67, 0.3), 0 1px 3px 1px rgba(60, 64, 67, 0.15);\n",
              "    fill: var(--button-hover-fill-color);\n",
              "  }\n",
              "\n",
              "  .colab-df-quickchart-complete:disabled,\n",
              "  .colab-df-quickchart-complete:disabled:hover {\n",
              "    background-color: var(--disabled-bg-color);\n",
              "    fill: var(--disabled-fill-color);\n",
              "    box-shadow: none;\n",
              "  }\n",
              "\n",
              "  .colab-df-spinner {\n",
              "    border: 2px solid var(--fill-color);\n",
              "    border-color: transparent;\n",
              "    border-bottom-color: var(--fill-color);\n",
              "    animation:\n",
              "      spin 1s steps(1) infinite;\n",
              "  }\n",
              "\n",
              "  @keyframes spin {\n",
              "    0% {\n",
              "      border-color: transparent;\n",
              "      border-bottom-color: var(--fill-color);\n",
              "      border-left-color: var(--fill-color);\n",
              "    }\n",
              "    20% {\n",
              "      border-color: transparent;\n",
              "      border-left-color: var(--fill-color);\n",
              "      border-top-color: var(--fill-color);\n",
              "    }\n",
              "    30% {\n",
              "      border-color: transparent;\n",
              "      border-left-color: var(--fill-color);\n",
              "      border-top-color: var(--fill-color);\n",
              "      border-right-color: var(--fill-color);\n",
              "    }\n",
              "    40% {\n",
              "      border-color: transparent;\n",
              "      border-right-color: var(--fill-color);\n",
              "      border-top-color: var(--fill-color);\n",
              "    }\n",
              "    60% {\n",
              "      border-color: transparent;\n",
              "      border-right-color: var(--fill-color);\n",
              "    }\n",
              "    80% {\n",
              "      border-color: transparent;\n",
              "      border-right-color: var(--fill-color);\n",
              "      border-bottom-color: var(--fill-color);\n",
              "    }\n",
              "    90% {\n",
              "      border-color: transparent;\n",
              "      border-bottom-color: var(--fill-color);\n",
              "    }\n",
              "  }\n",
              "</style>\n",
              "\n",
              "  <script>\n",
              "    async function quickchart(key) {\n",
              "      const quickchartButtonEl =\n",
              "        document.querySelector('#' + key + ' button');\n",
              "      quickchartButtonEl.disabled = true;  // To prevent multiple clicks.\n",
              "      quickchartButtonEl.classList.add('colab-df-spinner');\n",
              "      try {\n",
              "        const charts = await google.colab.kernel.invokeFunction(\n",
              "            'suggestCharts', [key], {});\n",
              "      } catch (error) {\n",
              "        console.error('Error during call to suggestCharts:', error);\n",
              "      }\n",
              "      quickchartButtonEl.classList.remove('colab-df-spinner');\n",
              "      quickchartButtonEl.classList.add('colab-df-quickchart-complete');\n",
              "    }\n",
              "    (() => {\n",
              "      let quickchartButtonEl =\n",
              "        document.querySelector('#df-1c31a03f-6d25-41de-9b58-1a25129a6062 button');\n",
              "      quickchartButtonEl.style.display =\n",
              "        google.colab.kernel.accessAllowed ? 'block' : 'none';\n",
              "    })();\n",
              "  </script>\n",
              "</div>\n",
              "\n",
              "    </div>\n",
              "  </div>\n"
            ],
            "application/vnd.google.colaboratory.intrinsic+json": {
              "type": "dataframe",
              "variable_name": "df"
            }
          },
          "metadata": {},
          "execution_count": 17
        }
      ]
    },
    {
      "cell_type": "code",
      "source": [
        "#Define A/B Test Groups\n",
        "# Randomly assign recipients to Group A or Group B\n",
        "np.random.seed(42)  # For reproducibility\n",
        "df['Test_Group'] = np.random.choice(['A', 'B'], size=len(df))"
      ],
      "metadata": {
        "id": "qp_XbfgWuWRJ"
      },
      "execution_count": 19,
      "outputs": []
    },
    {
      "cell_type": "markdown",
      "source": [],
      "metadata": {
        "id": "OibU5Ei9zZkx"
      }
    },
    {
      "cell_type": "markdown",
      "source": [
        "# Select Metrics for Comparison\n",
        "## The metrics we will use are 'Engagement_Rate' and 'Click_Through_Rate'\n"
      ],
      "metadata": {
        "id": "-N9cIe9OzruM"
      }
    },
    {
      "cell_type": "code",
      "source": [
        "# Perform t-test for Engagement Rate\n",
        "engagement_ttest = ttest_ind(group_A['Engagement_Rate'], group_B['Engagement_Rate'], equal_var=False)\n",
        "print(f\"Engagement Rate T-Test: Statistic = {engagement_ttest.statistic}, p-value = {engagement_ttest.pvalue}\")"
      ],
      "metadata": {
        "colab": {
          "base_uri": "https://localhost:8080/"
        },
        "id": "pPSZzZRqzVa3",
        "outputId": "f9bc94af-8828-453b-a6a5-6532d3186e84"
      },
      "execution_count": 20,
      "outputs": [
        {
          "output_type": "stream",
          "name": "stdout",
          "text": [
            "Engagement Rate T-Test: Statistic = -0.35826018820971944, p-value = 0.720149190361709\n"
          ]
        }
      ]
    },
    {
      "cell_type": "code",
      "source": [
        "# Perform t-test for Click-Through Rate\n",
        "ctr_ttest = ttest_ind(group_A['Click_Through_Rate'], group_B['Click_Through_Rate'], equal_var=False)\n",
        "print(f\"Click-Through Rate T-Test: Statistic = {ctr_ttest.statistic}, p-value = {ctr_ttest.pvalue}\")"
      ],
      "metadata": {
        "colab": {
          "base_uri": "https://localhost:8080/"
        },
        "id": "hgE07fQrzVPq",
        "outputId": "8761ae13-109d-4dcc-e50c-700f1adfd5d6"
      },
      "execution_count": 21,
      "outputs": [
        {
          "output_type": "stream",
          "name": "stdout",
          "text": [
            "Click-Through Rate T-Test: Statistic = -0.4974871046831915, p-value = 0.6188464357341306\n"
          ]
        }
      ]
    },
    {
      "cell_type": "code",
      "source": [
        "# Let us consider a p-value < 0.05 as statistically significant\n",
        "if engagement_ttest.pvalue < 0.05:\n",
        "    print(\"Reject the null hypothesis for Engagement Rate: Significant difference between Group A and Group B.\")\n",
        "else:\n",
        "    print(\"Fail to reject the null hypothesis for Engagement Rate: No significant difference between Group A and Group B.\")\n",
        "\n",
        "if ctr_ttest.pvalue < 0.05:\n",
        "    print(\"Reject the null hypothesis for Click-Through Rate: Significant difference between Group A and Group B.\")\n",
        "else:\n",
        "    print(\"Fail to reject the null hypothesis for Click-Through Rate: No significant difference between Group A and Group B.\")"
      ],
      "metadata": {
        "colab": {
          "base_uri": "https://localhost:8080/"
        },
        "id": "Gdbc1cXw0YVK",
        "outputId": "d67f2a30-e6ed-4309-f282-031bd46fa74b"
      },
      "execution_count": 22,
      "outputs": [
        {
          "output_type": "stream",
          "name": "stdout",
          "text": [
            "Fail to reject the null hypothesis for Engagement Rate: No significant difference between Group A and Group B.\n",
            "Fail to reject the null hypothesis for Click-Through Rate: No significant difference between Group A and Group B.\n"
          ]
        }
      ]
    },
    {
      "cell_type": "code",
      "source": [
        "from scipy.stats import mannwhitneyu\n",
        "\n",
        "# Mann-Whitney U Test for Engagement Rate\n",
        "engagement_mw_test = mannwhitneyu(group_A['Engagement_Rate'], group_B['Engagement_Rate'])\n",
        "print(f\"Engagement Rate Mann-Whitney U Test: Statistic = {engagement_mw_test.statistic}, p-value = {engagement_mw_test.pvalue}\")\n",
        "\n",
        "# Mann-Whitney U Test for Click-Through Rate\n",
        "ctr_mw_test = mannwhitneyu(group_A['Click_Through_Rate'], group_B['Click_Through_Rate'])\n",
        "print(f\"Click-Through Rate Mann-Whitney U Test: Statistic = {ctr_mw_test.statistic}, p-value = {ctr_mw_test.pvalue}\")\n"
      ],
      "metadata": {
        "colab": {
          "base_uri": "https://localhost:8080/"
        },
        "id": "lOscF8Ur6YA8",
        "outputId": "c20051a5-319c-49e2-9dc1-7460af3a79a9"
      },
      "execution_count": 23,
      "outputs": [
        {
          "output_type": "stream",
          "name": "stdout",
          "text": [
            "Engagement Rate Mann-Whitney U Test: Statistic = 2108760580.0, p-value = 0.5821472942711272\n",
            "Click-Through Rate Mann-Whitney U Test: Statistic = 2107679745.0, p-value = 0.4776980384601406\n"
          ]
        }
      ]
    },
    {
      "cell_type": "markdown",
      "source": [],
      "metadata": {
        "id": "dw4JtfhZ6puD"
      }
    },
    {
      "cell_type": "code",
      "source": [
        "def calculate_cohens_d(group1, group2):\n",
        "    diff_mean = np.mean(group1) - np.mean(group2)\n",
        "    pooled_std = np.sqrt((np.var(group1) + np.var(group2)) / 2)\n",
        "    return diff_mean / pooled_std\n",
        "\n",
        "# Calculate Cohen's d for Engagement Rate\n",
        "cohen_d_engagement = calculate_cohens_d(group_A['Engagement_Rate'], group_B['Engagement_Rate'])\n",
        "print(f\"Cohen's d for Engagement Rate: {cohen_d_engagement}\")\n",
        "\n",
        "# Calculate Cohen's d for Click-Through Rate\n",
        "cohen_d_ctr = calculate_cohens_d(group_A['Click_Through_Rate'], group_B['Click_Through_Rate'])\n",
        "print(f\"Cohen's d for Click-Through Rate: {cohen_d_ctr}\")\n"
      ],
      "metadata": {
        "colab": {
          "base_uri": "https://localhost:8080/"
        },
        "id": "rfpbg6jB9csG",
        "outputId": "773d1081-0809-49db-e34c-7f7908ddd220"
      },
      "execution_count": 24,
      "outputs": [
        {
          "output_type": "stream",
          "name": "stdout",
          "text": [
            "Cohen's d for Engagement Rate: -0.0019873001746740877\n",
            "Cohen's d for Click-Through Rate: -0.002759599203763255\n"
          ]
        }
      ]
    }
  ]
}